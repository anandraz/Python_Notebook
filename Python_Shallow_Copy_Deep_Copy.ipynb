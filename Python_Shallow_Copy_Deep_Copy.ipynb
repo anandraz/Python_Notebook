{
 "cells": [
  {
   "cell_type": "markdown",
   "metadata": {},
   "source": [
    "# Python | Shallow Copy | Deep Copy"
   ]
  },
  {
   "cell_type": "code",
   "execution_count": 1,
   "metadata": {},
   "outputs": [
    {
     "name": "stdout",
     "output_type": "stream",
     "text": [
      "Before Change list1 [1, 2, 3, 4]\n",
      "Before Change list2 [1, 2, 3, 4]\n",
      "After Change list1 [7, 2, 3, 4]\n",
      "After Change list2 [7, 2, 3, 4]\n"
     ]
    }
   ],
   "source": [
    "# here If you made any changes in list2 it will change as same in list1 as well.\n",
    "# this is normal copy using assignment operator\n",
    "list1= [1,2,3,4]\n",
    "list2= list1\n",
    "print(\"Before Change list1\",list1)\n",
    "print(\"Before Change list2\",list2)\n",
    "list2[0]= 7\n",
    "print(\"After Change list1\",list1)\n",
    "print(\"After Change list2\",list2)"
   ]
  },
  {
   "cell_type": "markdown",
   "metadata": {},
   "source": [
    "Shallow copy: "
   ]
  },
  {
   "cell_type": "code",
   "execution_count": 2,
   "metadata": {},
   "outputs": [
    {
     "name": "stdout",
     "output_type": "stream",
     "text": [
      "Before Change list1 [1, 2, 3, 4]\n",
      "Before Change list2 [1, 2, 3, 4]\n",
      "After Change list1 [1, 2, 3, 4]\n",
      "After Change list2 [7, 2, 3, 4]\n"
     ]
    }
   ],
   "source": [
    "# here if you made changes in list2 it won't reflect to list1.\n",
    "import copy\n",
    "list1= [1,2,3,4]\n",
    "list2= copy.copy(list1)\n",
    "print(\"Before Change list1\",list1)\n",
    "print(\"Before Change list2\",list2)\n",
    "list2[0]= 7\n",
    "print(\"After Change list1\",list1)\n",
    "print(\"After Change list2\",list2)"
   ]
  },
  {
   "cell_type": "code",
   "execution_count": 3,
   "metadata": {},
   "outputs": [
    {
     "name": "stdout",
     "output_type": "stream",
     "text": [
      "Before Change list1 [1, 2, [3, 4], 5, 6]\n",
      "Before Change list2 [1, 2, [3, 4], 5, 6]\n",
      "After Change list1 [1, 2, [7, 4], 5, 6]\n",
      "After Change list2 [1, 2, [7, 4], 5, 6]\n"
     ]
    }
   ],
   "source": [
    "# here If you made changes in list2 inner list values it will change list1 inner list as well.\n",
    "import copy\n",
    "list1= [1,2,[3,4],5,6]\n",
    "list2= copy.copy(list1)\n",
    "print(\"Before Change list1\",list1)\n",
    "print(\"Before Change list2\",list2)\n",
    "list2[2][0]= 7\n",
    "print(\"After Change list1\",list1)\n",
    "print(\"After Change list2\",list2)"
   ]
  },
  {
   "cell_type": "markdown",
   "metadata": {},
   "source": [
    "Deep Copy:"
   ]
  },
  {
   "cell_type": "code",
   "execution_count": 4,
   "metadata": {},
   "outputs": [
    {
     "name": "stdout",
     "output_type": "stream",
     "text": [
      "Before Change list1 [1, 2, 3, 4]\n",
      "Before Change list2 [1, 2, 3, 4]\n",
      "After Change list1 [1, 2, 3, 4]\n",
      "After Change list2 [7, 2, 3, 4]\n"
     ]
    }
   ],
   "source": [
    "# here if you made changes in list2 it won't reflect to list1.\n",
    "import copy\n",
    "list1= [1,2,3,4]\n",
    "list2= copy.deepcopy(list1)\n",
    "print(\"Before Change list1\",list1)\n",
    "print(\"Before Change list2\",list2)\n",
    "list2[0]= 7\n",
    "print(\"After Change list1\",list1)\n",
    "print(\"After Change list2\",list2)"
   ]
  },
  {
   "cell_type": "code",
   "execution_count": 5,
   "metadata": {},
   "outputs": [
    {
     "name": "stdout",
     "output_type": "stream",
     "text": [
      "Before Change list1 [1, 2, [3, 4], 5, 6]\n",
      "Before Change list2 [1, 2, [3, 4], 5, 6]\n",
      "After Change list1 [1, 2, [3, 4], 5, 6]\n",
      "After Change list2 [1, 2, [7, 4], 5, 6]\n"
     ]
    }
   ],
   "source": [
    "# here if you made changes in list2 it won't reflect to list1\n",
    "# but the condition is list1 should a single list\n",
    "# if a list inside another list e.g. [1,2,[3,4],5,6] \n",
    "#then if you will made changes list2 inner list, it won't change in list1 inner list.\n",
    "import copy\n",
    "list1= [1,2,[3,4],5,6]\n",
    "list2= copy.deepcopy(list1)\n",
    "print(\"Before Change list1\",list1)\n",
    "print(\"Before Change list2\",list2)\n",
    "list2[2][0]= 7\n",
    "print(\"After Change list1\",list1)\n",
    "print(\"After Change list2\",list2)"
   ]
  },
  {
   "cell_type": "code",
   "execution_count": 6,
   "metadata": {},
   "outputs": [
    {
     "name": "stdout",
     "output_type": "stream",
     "text": [
      "THE END\n"
     ]
    }
   ],
   "source": [
    "print(\"THE END\")"
   ]
  },
  {
   "cell_type": "code",
   "execution_count": null,
   "metadata": {},
   "outputs": [],
   "source": []
  }
 ],
 "metadata": {
  "kernelspec": {
   "display_name": "Python 3",
   "language": "python",
   "name": "python3"
  },
  "language_info": {
   "codemirror_mode": {
    "name": "ipython",
    "version": 3
   },
   "file_extension": ".py",
   "mimetype": "text/x-python",
   "name": "python",
   "nbconvert_exporter": "python",
   "pygments_lexer": "ipython3",
   "version": "3.6.7"
  }
 },
 "nbformat": 4,
 "nbformat_minor": 2
}
